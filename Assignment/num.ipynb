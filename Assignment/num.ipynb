{
 "cells": [
  {
   "cell_type": "markdown",
   "metadata": {},
   "source": [
    "## Questions.."
   ]
  },
  {
   "cell_type": "code",
   "execution_count": 5,
   "metadata": {},
   "outputs": [
    {
     "name": "stdout",
     "output_type": "stream",
     "text": [
      "Maximum number is: 30\n",
      "Minimum number is: 1\n"
     ]
    }
   ],
   "source": [
    "#1 WAP Maximum and Minimum of a List\n",
    "list_no = [1,4,5,2,7,9,10,15,20,25,30]\n",
    "print(\"Maximum number is:\", max(list_no))\n",
    "print(\"Minimum number is:\", min(list_no))\n"
   ]
  },
  {
   "cell_type": "code",
   "execution_count": 6,
   "metadata": {},
   "outputs": [
    {
     "name": "stdout",
     "output_type": "stream",
     "text": [
      "Addition res is: [ 7  9 11 13 15]\n"
     ]
    }
   ],
   "source": [
    "#2 WAP Matrix Operations\n",
    "\n",
    "import numpy as np\n",
    "\n",
    "A = np.array([1,2,3,4,5])\n",
    "B = np.array([6,7,8,9,10])\n",
    "\n",
    "res = np.add(A, B)\n",
    "\n",
    "print(\"Addition res is:\", res)"
   ]
  },
  {
   "cell_type": "code",
   "execution_count": 9,
   "metadata": {},
   "outputs": [
    {
     "name": "stdout",
     "output_type": "stream",
     "text": [
      "[('Thomas', 25, 90.5) ('Rose', 31, 85.2) ('David', 42, 78.9)]\n"
     ]
    }
   ],
   "source": [
    "#3 Explain Structured Data: NumPy’s Structured Array.\n",
    "\n",
    "import numpy as np\n",
    "\n",
    "# Define the dtype\n",
    "dtype = np.dtype([('name', 'U10'), ('age', int), ('score', float)])\n",
    "\n",
    "# Create a structured array\n",
    "data = np.array([('Thomas', 25, 90.5), ('Rose', 31, 85.2), ('David', 42, 78.9)], dtype=dtype)\n",
    "\n",
    "print(data) "
   ]
  },
  {
   "cell_type": "code",
   "execution_count": 10,
   "metadata": {},
   "outputs": [
    {
     "name": "stdout",
     "output_type": "stream",
     "text": [
      "10\n",
      "[15 20]\n"
     ]
    }
   ],
   "source": [
    "#4 WAP Data Indexing and Selection\n",
    "import numpy as np\n",
    "\n",
    "data = np.array([10, 15, 20, 25, 30, 35, 40])\n",
    "\n",
    "print(data[0])  # Output: 10\n",
    "print(data[1:3])  # Output: [20 30]"
   ]
  },
  {
   "cell_type": "code",
   "execution_count": 11,
   "metadata": {},
   "outputs": [
    {
     "data": {
      "image/png": "[encoded data removed]",
      "text/plain": [
       "<Figure size 640x480 with 1 Axes>"
      ]
     },
     "metadata": {},
     "output_type": "display_data"
    }
   ],
   "source": [
    "#5 Write a Python program to plot a bubble chart with labels for each bubble. Display the x and y values as the labels inside the bubbles.\n",
    "import matplotlib.pyplot as plt\n",
    "import numpy as np\n",
    "\n",
    "# Sample data\n",
    "x = np.array([10, 20, 30, 40, 50])\n",
    "y = np.array([20, 30, 40, 50, 60])\n",
    "sizes = np.array([50, 100, 150, 200, 250])  # bubble sizes\n",
    "labels = ['A', 'B', 'C', 'D', 'E']  # labels for each bubble\n",
    "\n",
    "# Create the figure and axis\n",
    "fig, ax = plt.subplots()\n",
    "\n",
    "# Plot the bubble chart\n",
    "for i in range(len(x)):\n",
    "    ax.scatter(x[i], y[i], s=sizes[i], label=labels[i])\n",
    "\n",
    "    # Add label inside the bubble\n",
    "    ax.annotate(f\"({x[i]}, {y[i]})\", (x[i], y[i]), textcoords=\"offset points\", xytext=(0, 10), ha='center')\n",
    "\n",
    "# Set axis labels and title\n",
    "ax.set_xlabel('X Axis')\n",
    "ax.set_ylabel('Y Axis')\n",
    "ax.set_title('Bubble Chart with Labels')\n",
    "\n",
    "# Show the plot\n",
    "plt.show()"
   ]
  },
  {
   "cell_type": "code",
   "execution_count": 15,
   "metadata": {},
   "outputs": [
    {
     "name": "stdout",
     "output_type": "stream",
     "text": [
      "Original DataFrame:\n",
      "     Name  Age  Score\n",
      "0  Thomas   25     90\n",
      "1    John   22     85\n",
      "2  Arthur   27     78\n",
      "3   Polly   40     92\n",
      "4    Rose   24     88\n",
      "\n",
      "Selecting a single column:\n",
      "0    Thomas\n",
      "1      John\n",
      "2    Arthur\n",
      "3     Polly\n",
      "4      Rose\n",
      "Name: Name, dtype: object\n",
      "\n",
      "Selecting multiple columns:\n",
      "     Name  Age\n",
      "0  Thomas   25\n",
      "1    John   22\n",
      "2  Arthur   27\n",
      "3   Polly   40\n",
      "4    Rose   24\n",
      "\n",
      "Selecting rows based on a condition:\n",
      "    Name  Age  Score\n",
      "3  Polly   40     92\n",
      "\n",
      "Calculating the mean of a column:\n",
      "86.6\n",
      "\n",
      "Calculating the sum of a column:\n",
      "433\n",
      "\n",
      "Calculating the count of a column:\n",
      "5\n"
     ]
    }
   ],
   "source": [
    "#6 WAP Demonstrate Pandas with its Operations\n",
    "import pandas as pd\n",
    "\n",
    "# Create a sample DataFrame\n",
    "data = {'Name': ['Thomas', 'John', 'Arthur', 'Polly', 'Rose'],\n",
    "        'Age': [25, 22, 27, 40, 24],\n",
    "        'Score': [90, 85, 78, 92, 88]}\n",
    "df = pd.DataFrame(data)\n",
    "\n",
    "print(\"Original DataFrame:\")\n",
    "print(df)\n",
    "\n",
    "#Selecting data \n",
    "\n",
    "# Select a single column\n",
    "print(\"\\nSelecting a single column:\")\n",
    "print(df['Name'])\n",
    "\n",
    "# Select multiple columns\n",
    "print(\"\\nSelecting multiple columns:\")\n",
    "print(df[['Name', 'Age']])\n",
    "\n",
    "# Select rows based on a condition\n",
    "print(\"\\nSelecting rows based on a condition:\")\n",
    "print(df[df['Age'] > 30])\n",
    "\n",
    "# Some maths operation now\n",
    "# Calculate the mean of a column\n",
    "print(\"\\nCalculating the mean of a column:\")\n",
    "print(df['Score'].mean())\n",
    "\n",
    "# Calculate the sum of a column\n",
    "print(\"\\nCalculating the sum of a column:\")\n",
    "print(df['Score'].sum())\n",
    "\n",
    "# Calculate the count of a column\n",
    "print(\"\\nCalculating the count of a column:\")\n",
    "print(df['Score'].count())"
   ]
  },
  {
   "cell_type": "code",
   "execution_count": null,
   "metadata": {},
   "outputs": [],
   "source": []
  }
 ],
 "metadata": {
  "kernelspec": {
   "display_name": "base",
   "language": "python",
   "name": "python3"
  },
  "language_info": {
   "codemirror_mode": {
    "name": "ipython",
    "version": 3
   },
   "file_extension": ".py",
   "mimetype": "text/x-python",
   "name": "python",
   "nbconvert_exporter": "python",
   "pygments_lexer": "ipython3",
   "version": "3.12.3"
  }
 },
 "nbformat": 4,
 "nbformat_minor": 2
}
