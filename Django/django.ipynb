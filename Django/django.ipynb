{
 "cells": [
  {
   "cell_type": "markdown",
   "metadata": {},
   "source": [
    "## Introduction:\n"
   ]
  },
  {
   "cell_type": "code",
   "execution_count": 1,
   "metadata": {},
   "outputs": [],
   "source": [
    "#1 Django is an high level web framework which is used in python for complex applications whereas flask is used for simple applications \n",
    "#2 Django is a backend program \n",
    "# Difference between javaScript and java(Frontend and Backend)"
   ]
  },
  {
   "cell_type": "code",
   "execution_count": 1,
   "metadata": {},
   "outputs": [],
   "source": [
    "import numpy as np"
   ]
  },
  {
   "cell_type": "code",
   "execution_count": 5,
   "metadata": {},
   "outputs": [
    {
     "name": "stdout",
     "output_type": "stream",
     "text": [
      "Fancy indexing [2 3 5 6]\n"
     ]
    }
   ],
   "source": [
    "test = np.array([1,2,3,4,5,6,7])\n",
    "res = np.array([1,2,4,5])\n",
    "indices = test[res]\n",
    "print(\"Fancy indexing\", indices)"
   ]
  },
  {
   "cell_type": "code",
   "execution_count": 4,
   "metadata": {},
   "outputs": [],
   "source": [
    "import tkinter as tk\n",
    "\n",
    "root = tk.Tk()\n",
    "\n",
    "root.title(\"My app\")\n",
    "root.geometry(\"500x600\")\n",
    "root.config(bg=\"yellow\")\n",
    "\n",
    "#creating label\n",
    "label =tk.Label(root, text=\"My first app\", font=(\"Arial\", 24), fg=\"green\") #fg = font color\n",
    "label.pack(pady=20)\n",
    "\n",
    "#creating button\n",
    "def on_click():\n",
    "    label.config(text= \"button was clicked\")\n",
    "\n",
    "button = tk.Button(root,text=\"Click here\", command=on_click)\n",
    "button.pack(pady=20)\n",
    "\n",
    "#Exit button \n",
    "def close_app():\n",
    "    root.quit()\n",
    "\n",
    "exit_button = tk.Button(root, text=\"Exit now\", command=close_app)\n",
    "exit_button.pack(pady=50)\n",
    "\n",
    "root.mainloop()\n",
    "\n",
    "\n",
    "\n",
    "\n",
    "\n"
   ]
  },
  {
   "cell_type": "code",
   "execution_count": null,
   "metadata": {},
   "outputs": [],
   "source": []
  }
 ],
 "metadata": {
  "kernelspec": {
   "display_name": "base",
   "language": "python",
   "name": "python3"
  },
  "language_info": {
   "codemirror_mode": {
    "name": "ipython",
    "version": 3
   },
   "file_extension": ".py",
   "mimetype": "text/x-python",
   "name": "python",
   "nbconvert_exporter": "python",
   "pygments_lexer": "ipython3",
   "version": "3.12.3"
  }
 },
 "nbformat": 4,
 "nbformat_minor": 2
}
