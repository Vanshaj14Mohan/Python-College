{
 "cells": [
  {
   "cell_type": "code",
   "execution_count": 16,
   "metadata": {},
   "outputs": [
    {
     "name": "stdout",
     "output_type": "stream",
     "text": [
      "50005000500050005000500050005000500050005000500050005000500050005000500050005000\n"
     ]
    }
   ],
   "source": [
    "#1: \n",
    "salary = str(input(\"Enter the salary\"))\n",
    "house_rent = 20%100 * salary\n",
    "print(house_rent)\n",
    "# dear_allow = (10%100*salary)\n",
    "# print(dear_allow)\n",
    "# gross_salary = salary+house_rent+dear_allow\n",
    "# print(\"Gross salary is:\", gross_salary)"
   ]
  },
  {
   "cell_type": "code",
   "execution_count": 19,
   "metadata": {},
   "outputs": [
    {
     "name": "stdout",
     "output_type": "stream",
     "text": [
      "House rent is 10000.0\n",
      "Dear_allow is 5000.0\n",
      "Gross salary is 65000.0\n"
     ]
    }
   ],
   "source": [
    "#1: Basic Salary\n",
    "salary = int(input(\"Enter the salary\"))\n",
    "house_rent= 20/100 *salary\n",
    "print(\"House rent is\",house_rent)\n",
    "dear_allow = 10/100 *salary\n",
    "print(\"Dear_allow is\",dear_allow)\n",
    "gross_salary = salary+house_rent+dear_allow\n",
    "print(\"Gross salary is\", gross_salary)"
   ]
  },
  {
   "cell_type": "code",
   "execution_count": 25,
   "metadata": {},
   "outputs": [
    {
     "name": "stdout",
     "output_type": "stream",
     "text": [
      "temperature in fahrenheit is 208.4\n"
     ]
    }
   ],
   "source": [
    "#2: Temperature Converter\n",
    "celsius_temp = int(input(\"Enter temperature\"))\n",
    "fare_temp = 9/5*celsius_temp +32\n",
    "print(\"temperature in fahrenheit is\", fare_temp)"
   ]
  },
  {
   "cell_type": "code",
   "execution_count": 21,
   "metadata": {},
   "outputs": [
    {
     "name": "stdout",
     "output_type": "stream",
     "text": [
      "Simple interest is: 20000.0\n"
     ]
    }
   ],
   "source": [
    "#3: Simple Interest\n",
    "p = int(input(\"Enter the principal\"))\n",
    "rate = int(input(\"Enter the rate\"))\n",
    "time = int(input(\"Enter time\"))\n",
    "si = p*rate*time/100\n",
    "print(\"Simple interest is:\", si)"
   ]
  },
  {
   "cell_type": "markdown",
   "metadata": {},
   "source": [
    "## 1/10/24 Part 2"
   ]
  },
  {
   "cell_type": "code",
   "execution_count": 4,
   "metadata": {},
   "outputs": [
    {
     "name": "stdout",
     "output_type": "stream",
     "text": [
      "Third city longitude is: 45.9\n"
     ]
    }
   ],
   "source": [
    "#1:\n",
    "city_longitude = (20.5, 30.2, 45.9, 35.5, 40.2)\n",
    "#Accesing longitude of third city in the tuple\n",
    "print(\"Third city longitude is:\", city_longitude[2])\n"
   ]
  },
  {
   "cell_type": "code",
   "execution_count": 6,
   "metadata": {},
   "outputs": [
    {
     "name": "stdout",
     "output_type": "stream",
     "text": [
      "ID is: 101\n",
      "Name is: John Doe\n",
      "Profession is: Enginnering\n"
     ]
    }
   ],
   "source": [
    "#2:\n",
    "emp_data = (101, \"John Doe\", \"Enginnering\")\n",
    "Id_name = emp_data[0]\n",
    "print(\"ID is:\", Id_name)\n",
    "emp_name = emp_data[1]\n",
    "print(\"Name is:\", emp_name)\n",
    "emp_profession = emp_data[2]\n",
    "print(\"Profession is:\", emp_profession)\n"
   ]
  },
  {
   "cell_type": "code",
   "execution_count": 1,
   "metadata": {},
   "outputs": [
    {
     "name": "stdout",
     "output_type": "stream",
     "text": [
      "{'name': 'John Doe', 'Maths': 85, 'Science': 90, 'English': 78}\n",
      "Science Marks: 90\n"
     ]
    }
   ],
   "source": [
    "#3: \n",
    "student = {\"name\": \"John Doe\", \"Maths\": 85, \"Science\": 90, \"English\": 78}\n",
    "print(student)\n",
    "#Accessing John Doe marks in science\n",
    "print(\"Science Marks:\", student[\"Science\"])"
   ]
  },
  {
   "cell_type": "code",
   "execution_count": 1,
   "metadata": {},
   "outputs": [
    {
     "name": "stdout",
     "output_type": "stream",
     "text": [
      "Sorted Flights:\n",
      "CA321 to Chicago at 2024-10-05 09:30:00\n",
      "BA456 to Los Angeles at 2024-10-05 12:00:00\n",
      "AA123 to New York at 2024-10-05 15:30:00\n",
      "AA789 to New York at 2024-10-05 18:00:00\n",
      "\n",
      "Flights to New York:\n",
      "AA123 at 2024-10-05 15:30:00\n",
      "AA789 at 2024-10-05 18:00:00\n"
     ]
    }
   ],
   "source": [
    "#4:\n",
    "from datetime import datetime\n",
    "\n",
    "# List to store flight information\n",
    "flights = []\n",
    "\n",
    "def add_flight(flight_number, destination, departure_time):\n",
    "    \"\"\"Add a new flight to the list.\"\"\"\n",
    "    flight = {\n",
    "        'flight_number': flight_number,\n",
    "        'destination': destination,\n",
    "        'departure_time': datetime.strptime(departure_time, \"%Y-%m-%d %H:%M\")\n",
    "    }\n",
    "    flights.append(flight)\n",
    "\n",
    "def sort_flights_by_departure_time():\n",
    "    \"\"\"Sort flights by departure time.\"\"\"\n",
    "    global flights\n",
    "    flights.sort(key=lambda x: x['departure_time'])\n",
    "\n",
    "def find_flights_to_destination(destination):\n",
    "    \"\"\"Find all flights headed to a particular destination.\"\"\"\n",
    "    return [flight for flight in flights if flight['destination'].lower() == destination.lower()]\n",
    "\n",
    "# Example usage:\n",
    "add_flight(\"AA123\", \"New York\", \"2024-10-05 15:30\")\n",
    "add_flight(\"BA456\", \"Los Angeles\", \"2024-10-05 12:00\")\n",
    "add_flight(\"AA789\", \"New York\", \"2024-10-05 18:00\")\n",
    "add_flight(\"CA321\", \"Chicago\", \"2024-10-05 09:30\")\n",
    "\n",
    "# Sort flights by departure time\n",
    "sort_flights_by_departure_time()\n",
    "\n",
    "# Display sorted flights\n",
    "print(\"Sorted Flights:\")\n",
    "for flight in flights:\n",
    "    print(f\"{flight['flight_number']} to {flight['destination']} at {flight['departure_time']}\")\n",
    "\n",
    "# Find flights to New York\n",
    "print(\"\\nFlights to New York:\")\n",
    "for flight in find_flights_to_destination(\"New York\"):\n",
    "    print(f\"{flight['flight_number']} at {flight['departure_time']}\")\n",
    "\n",
    "\n"
   ]
  },
  {
   "cell_type": "code",
   "execution_count": 2,
   "metadata": {},
   "outputs": [
    {
     "name": "stdout",
     "output_type": "stream",
     "text": [
      "Original: aaabbccccd\n",
      "Compressed: a3b2c4d\n"
     ]
    }
   ],
   "source": [
    "#6 \n",
    "def compress_string(input_string):\n",
    "    \"\"\"Compress a string by representing consecutive repeated characters.\"\"\"\n",
    "    if not input_string:\n",
    "        return input_string  # Return empty string as is\n",
    "\n",
    "    compressed = []\n",
    "    count = 1\n",
    "\n",
    "    # Iterate through the string\n",
    "    for i in range(1, len(input_string)):\n",
    "        if input_string[i] == input_string[i - 1]:\n",
    "            count += 1\n",
    "        else:\n",
    "            compressed.append(input_string[i - 1])\n",
    "            if count > 1:\n",
    "                compressed.append(str(count))\n",
    "            count = 1\n",
    "\n",
    "    # Handle the last set of characters\n",
    "    compressed.append(input_string[-1])\n",
    "    if count > 1:\n",
    "        compressed.append(str(count))\n",
    "\n",
    "    compressed_string = ''.join(compressed)\n",
    "\n",
    "    # Return the compressed string if it's shorter, otherwise return the original\n",
    "    return compressed_string if len(compressed_string) < len(input_string) else input_string\n",
    "\n",
    "# Example usage\n",
    "original_string = \"aaabbccccd\"\n",
    "compressed_string = compress_string(original_string)\n",
    "print(f\"Original: {original_string}\")\n",
    "print(f\"Compressed: {compressed_string}\")\n"
   ]
  },
  {
   "cell_type": "code",
   "execution_count": null,
   "metadata": {},
   "outputs": [],
   "source": []
  }
 ],
 "metadata": {
  "kernelspec": {
   "display_name": "base",
   "language": "python",
   "name": "python3"
  },
  "language_info": {
   "codemirror_mode": {
    "name": "ipython",
    "version": 3
   },
   "file_extension": ".py",
   "mimetype": "text/x-python",
   "name": "python",
   "nbconvert_exporter": "python",
   "pygments_lexer": "ipython3",
   "version": "3.12.3"
  }
 },
 "nbformat": 4,
 "nbformat_minor": 2
}
