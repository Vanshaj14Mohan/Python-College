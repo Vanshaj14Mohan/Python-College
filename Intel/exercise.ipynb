{
 "cells": [
  {
   "cell_type": "code",
   "execution_count": 16,
   "metadata": {},
   "outputs": [
    {
     "name": "stdout",
     "output_type": "stream",
     "text": [
      "50005000500050005000500050005000500050005000500050005000500050005000500050005000\n"
     ]
    }
   ],
   "source": [
    "#1: \n",
    "salary = str(input(\"Enter the salary\"))\n",
    "house_rent = 20%100 * salary\n",
    "print(house_rent)\n",
    "# dear_allow = (10%100*salary)\n",
    "# print(dear_allow)\n",
    "# gross_salary = salary+house_rent+dear_allow\n",
    "# print(\"Gross salary is:\", gross_salary)"
   ]
  },
  {
   "cell_type": "code",
   "execution_count": 19,
   "metadata": {},
   "outputs": [
    {
     "name": "stdout",
     "output_type": "stream",
     "text": [
      "House rent is 10000.0\n",
      "Dear_allow is 5000.0\n",
      "Gross salary is 65000.0\n"
     ]
    }
   ],
   "source": [
    "#1: Basic Salary\n",
    "salary = int(input(\"Enter the salary\"))\n",
    "house_rent= 20/100 *salary\n",
    "print(\"House rent is\",house_rent)\n",
    "dear_allow = 10/100 *salary\n",
    "print(\"Dear_allow is\",dear_allow)\n",
    "gross_salary = salary+house_rent+dear_allow\n",
    "print(\"Gross salary is\", gross_salary)"
   ]
  },
  {
   "cell_type": "code",
   "execution_count": 25,
   "metadata": {},
   "outputs": [
    {
     "name": "stdout",
     "output_type": "stream",
     "text": [
      "temperature in fahrenheit is 208.4\n"
     ]
    }
   ],
   "source": [
    "#2: Temperature Converter\n",
    "celsius_temp = int(input(\"Enter temperature\"))\n",
    "fare_temp = 9/5*celsius_temp +32\n",
    "print(\"temperature in fahrenheit is\", fare_temp)"
   ]
  },
  {
   "cell_type": "code",
   "execution_count": 21,
   "metadata": {},
   "outputs": [
    {
     "name": "stdout",
     "output_type": "stream",
     "text": [
      "Simple interest is: 20000.0\n"
     ]
    }
   ],
   "source": [
    "#3: Simple Interest\n",
    "p = int(input(\"Enter the principal\"))\n",
    "rate = int(input(\"Enter the rate\"))\n",
    "time = int(input(\"Enter time\"))\n",
    "si = p*rate*time/100\n",
    "print(\"Simple interest is:\", si)"
   ]
  },
  {
   "cell_type": "markdown",
   "metadata": {},
   "source": [
    "## 1/10/24 Part 2"
   ]
  },
  {
   "cell_type": "code",
   "execution_count": 4,
   "metadata": {},
   "outputs": [
    {
     "name": "stdout",
     "output_type": "stream",
     "text": [
      "Third city longitude is: 45.9\n"
     ]
    }
   ],
   "source": [
    "#1:\n",
    "city_longitude = (20.5, 30.2, 45.9, 35.5, 40.2)\n",
    "#Accesing longitude of third city in the tuple\n",
    "print(\"Third city longitude is:\", city_longitude[2])\n"
   ]
  },
  {
   "cell_type": "code",
   "execution_count": 6,
   "metadata": {},
   "outputs": [
    {
     "name": "stdout",
     "output_type": "stream",
     "text": [
      "ID is: 101\n",
      "Name is: John Doe\n",
      "Profession is: Enginnering\n"
     ]
    }
   ],
   "source": [
    "#2:\n",
    "emp_data = (101, \"John Doe\", \"Enginnering\")\n",
    "Id_name = emp_data[0]\n",
    "print(\"ID is:\", Id_name)\n",
    "emp_name = emp_data[1]\n",
    "print(\"Name is:\", emp_name)\n",
    "emp_profession = emp_data[2]\n",
    "print(\"Profession is:\", emp_profession)\n"
   ]
  },
  {
   "cell_type": "code",
   "execution_count": 1,
   "metadata": {},
   "outputs": [
    {
     "name": "stdout",
     "output_type": "stream",
     "text": [
      "{'name': 'John Doe', 'Maths': 85, 'Science': 90, 'English': 78}\n",
      "Science Marks: 90\n"
     ]
    }
   ],
   "source": [
    "#3: \n",
    "student = {\"name\": \"John Doe\", \"Maths\": 85, \"Science\": 90, \"English\": 78}\n",
    "print(student)\n",
    "#Accessing John Doe marks in science\n",
    "print(\"Science Marks:\", student[\"Science\"])"
   ]
  },
  {
   "cell_type": "code",
   "execution_count": null,
   "metadata": {},
   "outputs": [],
   "source": [
    "#4:\n"
   ]
  }
 ],
 "metadata": {
  "kernelspec": {
   "display_name": "base",
   "language": "python",
   "name": "python3"
  },
  "language_info": {
   "codemirror_mode": {
    "name": "ipython",
    "version": 3
   },
   "file_extension": ".py",
   "mimetype": "text/x-python",
   "name": "python",
   "nbconvert_exporter": "python",
   "pygments_lexer": "ipython3",
   "version": "3.12.3"
  }
 },
 "nbformat": 4,
 "nbformat_minor": 2
}
